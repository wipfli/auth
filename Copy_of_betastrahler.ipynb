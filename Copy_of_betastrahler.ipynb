{
  "nbformat": 4,
  "nbformat_minor": 0,
  "metadata": {
    "colab": {
      "name": "Copy of betastrahler.ipynb",
      "provenance": [],
      "authorship_tag": "ABX9TyO5pQUNQkDkvT2iyZleSMTF"
    },
    "kernelspec": {
      "name": "python3",
      "display_name": "Python 3"
    }
  },
  "cells": [
    {
      "cell_type": "code",
      "metadata": {
        "id": "yRLl5eqoxGrT"
      },
      "source": [
        "import numpy as np\n",
        "from matplotlib import pyplot as plt"
      ],
      "execution_count": null,
      "outputs": []
    },
    {
      "cell_type": "code",
      "metadata": {
        "id": "n6yzF47uxK_W"
      },
      "source": [
        "V = np.array([200, 300, 400, 500, 550, 600, 700, 800, 900]) # volts"
      ],
      "execution_count": null,
      "outputs": []
    },
    {
      "cell_type": "code",
      "metadata": {
        "id": "sN9SOwCkxhtf"
      },
      "source": [
        "t = np.array([30, 30, 30, 30, 30, 30, 30, 30, 30]) # seconds"
      ],
      "execution_count": null,
      "outputs": []
    },
    {
      "cell_type": "code",
      "metadata": {
        "id": "U4XQi0mlxr61"
      },
      "source": [
        "N = np.array([0, 0, 2287, 2265, 2302, 2361, 2392, 2548, 2743]) # clicks"
      ],
      "execution_count": null,
      "outputs": []
    },
    {
      "cell_type": "code",
      "metadata": {
        "id": "BOMbewLAx1aj",
        "outputId": "4cb9aebe-5835-49c0-91e7-f7e57c0ba270",
        "colab": {
          "base_uri": "https://localhost:8080/",
          "height": 297
        }
      },
      "source": [
        "plt.plot(V, N, '.')\n",
        "plt.xlabel('Voltage (V)')\n",
        "plt.ylabel('N')"
      ],
      "execution_count": null,
      "outputs": [
        {
          "output_type": "execute_result",
          "data": {
            "text/plain": [
              "Text(0, 0.5, 'N')"
            ]
          },
          "metadata": {
            "tags": []
          },
          "execution_count": 7
        },
        {
          "output_type": "display_data",
          "data": {
            "image/png": "[encoded data removed]",
            "text/plain": [
              "<Figure size 432x288 with 1 Axes>"
            ]
          },
          "metadata": {
            "tags": [],
            "needs_background": "light"
          }
        }
      ]
    },
    {
      "cell_type": "code",
      "metadata": {
        "id": "kQE4Tksux8f8"
      },
      "source": [
        ""
      ],
      "execution_count": null,
      "outputs": []
    }
  ]
}